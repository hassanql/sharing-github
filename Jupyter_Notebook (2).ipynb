{
 "cells": [
  {
   "cell_type": "markdown",
   "metadata": {},
   "source": [
    "<center>\n",
    "    <img src=\"https://cf-courses-data.s3.us.cloud-object-storage.appdomain.cloud/IBMDeveloperSkillsNetwork-DS0105EN-SkillsNetwork/labs/Module2/images/SN_web_lightmode.png\" width=\"300\" alt=\"cognitiveclass.ai logo\">\n",
    "</center>\n"
   ]
  },
  {
   "cell_type": "markdown",
   "metadata": {},
   "source": [
    "#### Add your code below following the instructions given in the course\n"
   ]
  },
  {
   "cell_type": "markdown",
   "metadata": {},
   "source": [
    "# Hassan's Notebook "
   ]
  },
  {
   "cell_type": "markdown",
   "metadata": {},
   "source": [
    "#### __Introduction:__\n",
    "This is the code for my first peer-reviewed assignment in the IBM Data Science Course on Coursera"
   ]
  },
  {
   "cell_type": "markdown",
   "metadata": {},
   "source": [
    "Here is a list of data science languages:\n",
    "* Python\n",
    "* R\n",
    "* SQL\n",
    "* Julia\n",
    "* Scala"
   ]
  },
  {
   "cell_type": "markdown",
   "metadata": {},
   "source": [
    "Here is a list of data science languages:\n",
    "* NumPy\n",
    "* pandas\n",
    "* Scikit-learn\n",
    "* Matplotlib"
   ]
  },
  {
   "cell_type": "markdown",
   "metadata": {
    "tags": []
   },
   "source": [
    "category|tools|description\n",
    "--------|---------|-----------\n",
    "Data Exploration & Analysis|Jupyter Notebook, JupyterLab|Interactive environments for writing code, visualizing data, and developing data science workflows.\n",
    "Database Management|SQL, MySQL, PostgreSQL|Structured Query Language (SQL) and various database management systems for storing, retrieving, and manipulating data.\n",
    "Cloud Platforms|Google Colab, Amazon SageMaker, Microsoft Azure Machine Learning|Cloud-based platforms that provide resources for running and deploying data science projects."
   ]
  },
  {
   "cell_type": "markdown",
   "metadata": {},
   "source": [
    "Here are some arithmetic expression examples:\n",
    "\n",
    "2+2\n",
    "\n",
    "2/3\n",
    "\n",
    "9-6"
   ]
  },
  {
   "cell_type": "code",
   "execution_count": 1,
   "metadata": {
    "tags": []
   },
   "outputs": [
    {
     "data": {
      "text/plain": [
       "17"
      ]
     },
     "execution_count": 1,
     "metadata": {},
     "output_type": "execute_result"
    }
   ],
   "source": [
    "#Here is a cell to multiply and add numbers:\n",
    "\n",
    "\n",
    "(2*7)+(1*3)"
   ]
  },
  {
   "cell_type": "code",
   "execution_count": 9,
   "metadata": {
    "tags": []
   },
   "outputs": [
    {
     "name": "stdout",
     "output_type": "stream",
     "text": [
      "0.5\n"
     ]
    }
   ],
   "source": [
    "#here is a cell to convert minutes to hours:\n",
    "\n",
    "minutes = 30\n",
    "hours = minutes/60\n",
    "print(hours)\n",
    "\n",
    "#30 minutes is equivalent to 0.5 hours"
   ]
  },
  {
   "cell_type": "markdown",
   "metadata": {
    "tags": []
   },
   "source": [
    "____Objectives:____\n",
    "\n",
    "* Populate Mars\n",
    "* Finish IBM data science course\n",
    "* Travel to Sudan"
   ]
  },
  {
   "cell_type": "markdown",
   "metadata": {},
   "source": [
    "___Author: Hassan Suliman___"
   ]
  },
  {
   "cell_type": "markdown",
   "metadata": {
    "tags": []
   },
   "source": [
    "__here is my screenshot:__\n",
    "\n",
    "![My screenshot](screenshot.png)"
   ]
  },
  {
   "cell_type": "code",
   "execution_count": null,
   "metadata": {},
   "outputs": [],
   "source": []
  }
 ],
 "metadata": {
  "kernelspec": {
   "display_name": "Python",
   "language": "python",
   "name": "conda-env-python-py"
  },
  "language_info": {
   "codemirror_mode": {
    "name": "ipython",
    "version": 3
   },
   "file_extension": ".py",
   "mimetype": "text/x-python",
   "name": "python",
   "nbconvert_exporter": "python",
   "pygments_lexer": "ipython3",
   "version": "3.7.12"
  }
 },
 "nbformat": 4,
 "nbformat_minor": 4
}
